{
 "cells": [
  {
   "cell_type": "code",
   "execution_count": null,
   "metadata": {},
   "outputs": [],
   "source": []
  }
 ],
 "metadata": {
  "kernelspec": {
   "display_name": "Python 3.10.6 ('base')",
   "language": "python",
   "name": "python3"
  },
  "language_info": {
   "name": "python",
   "version": "3.10.6"
  },
  "orig_nbformat": 4,
  "vscode": {
   "interpreter": {
    "hash": "03d8a795c07393bdbdbcdb00fbeef8bd99b84e5f6c3a8eadb426ed9f35bcb346"
   }
  }
 },
 "nbformat": 4,
 "nbformat_minor": 2
}
